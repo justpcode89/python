{
 "cells": [
  {
   "cell_type": "code",
   "execution_count": 1,
   "metadata": {},
   "outputs": [],
   "source": [
    "import pandas as pd\n",
    "from rdkit import Chem"
   ]
  },
  {
   "cell_type": "markdown",
   "metadata": {},
   "source": [
    "reading dataset csv file"
   ]
  },
  {
   "cell_type": "code",
   "execution_count": null,
   "metadata": {},
   "outputs": [],
   "source": [
    "data_path = 'datasets/BBBP.csv'\n",
    "df = pd.read_csv(data_path)\n",
    "df = df[[\"name\", \"smiles\", \"p_np\"]]\n",
    "df"
   ]
  },
  {
   "cell_type": "markdown",
   "metadata": {},
   "source": [
    "reading and representing a molecule using rdkit"
   ]
  },
  {
   "cell_type": "code",
   "execution_count": null,
   "metadata": {},
   "outputs": [],
   "source": [
    "from rdkit.Chem import Draw\n",
    "from rdkit.Chem import AllChem\n",
    "\n",
    "test_smiles = df[\"smiles\"].iloc[3]\n",
    "m = Chem.MolFromSmiles(test_smiles)\n",
    "AllChem.Compute2DCoords(m)\n",
    "Draw.MolToImage(m)\n"
   ]
  },
  {
   "cell_type": "code",
   "execution_count": null,
   "metadata": {},
   "outputs": [],
   "source": [
    "!python -m mordred --help"
   ]
  },
  {
   "cell_type": "markdown",
   "metadata": {},
   "source": [
    "Computing features for a single molecule using mordred"
   ]
  },
  {
   "cell_type": "code",
   "execution_count": null,
   "metadata": {},
   "outputs": [],
   "source": [
    "from mordred import Calculator, descriptors\n",
    "\n",
    "calc = Calculator(descriptors, ignore_3D=True)\n",
    "features = calc(m)\n",
    "len(features)"
   ]
  },
  {
   "cell_type": "markdown",
   "metadata": {},
   "source": [
    "Computing features for all molecules"
   ]
  },
  {
   "cell_type": "code",
   "execution_count": null,
   "metadata": {},
   "outputs": [],
   "source": [
    "df"
   ]
  },
  {
   "cell_type": "code",
   "execution_count": null,
   "metadata": {},
   "outputs": [],
   "source": [
    "def generate_features(smiles_series):\n",
    "    calc = Calculator(descriptors, ignore_3D=True)\n",
    "    df_ = df.copy()\n",
    "    mol_series = pd.Series([Chem.MolFromSmiles(s) for s in smiles_series])\n",
    "    df_ = df_[~mol_series.isna()]\n",
    "    feats = calc.pandas(mol_series)\n",
    "    return feats\n"
   ]
  },
  {
   "cell_type": "code",
   "execution_count": null,
   "metadata": {},
   "outputs": [],
   "source": [
    "from utils import generate_features\n",
    "\n",
    "feats = generate_features(df.copy()[\"smiles\"])"
   ]
  },
  {
   "cell_type": "code",
   "execution_count": null,
   "metadata": {},
   "outputs": [],
   "source": [
    "import time\n",
    "from mordred import Calculator, descriptors\n",
    "\n",
    "\n",
    "start = time.time()\n",
    "calc = Calculator(descriptors, ignore_3D=True)\n",
    "df_ = df.copy()\n",
    "df_[\"mol\"] = [Chem.MolFromSmiles(s) for s in df_[\"smiles\"]]\n",
    "df_ = df_[~df_[\"mol\"].isna()]\n",
    "feats = calc.pandas(df_[\"mol\"])\n",
    "print(f\"finished in {time.time() - start}\")\n",
    "feats"
   ]
  },
  {
   "cell_type": "markdown",
   "metadata": {},
   "source": [
    "converting errors to NaN"
   ]
  },
  {
   "cell_type": "code",
   "execution_count": null,
   "metadata": {},
   "outputs": [],
   "source": [
    "import numpy as np\n",
    "\n",
    "feats = feats.map(lambda x: np.nan if not isinstance(x, (int, float)) else x)\n",
    "feats"
   ]
  },
  {
   "cell_type": "markdown",
   "metadata": {},
   "source": [
    "removing columns with all NaN values"
   ]
  },
  {
   "cell_type": "code",
   "execution_count": null,
   "metadata": {},
   "outputs": [],
   "source": [
    "columns = feats.columns[~feats.isna().all(axis=0)]\n",
    "feats = feats[columns]\n",
    "feats"
   ]
  },
  {
   "cell_type": "markdown",
   "metadata": {},
   "source": [
    "train, dev(val), test split"
   ]
  },
  {
   "cell_type": "code",
   "execution_count": null,
   "metadata": {},
   "outputs": [],
   "source": [
    "from sklearn.model_selection import train_test_split\n",
    "\n",
    "X = feats\n",
    "y = df_[\"p_np\"]\n",
    "X_train_val, X_test, y_train_val, y_test = train_test_split(X, y, test_size=0.1, stratify=y, random_state=42)\n",
    "X_train, X_val, y_train, y_val = train_test_split(X_train_val, y_train_val, test_size=0.22, stratify=y_train_val, random_state=42)\n",
    "\n",
    "mean_vals = X_train.mean(axis=0)\n",
    "\n",
    "# removing columns that their mean are NaN\n",
    "columns = X_train.columns[~mean_vals.isna()]\n",
    "X_train = X_train[columns]\n",
    "X_val = X_val[columns]\n",
    "X_test = X_test[columns]\n",
    "\n",
    "mean_vals = X_train.mean(axis=0)\n",
    "X_train.fillna(mean_vals, inplace=True)\n",
    "X_val.fillna(mean_vals, inplace=True)\n",
    "X_test.fillna(mean_vals, inplace=True)\n",
    "\n",
    "feature_names = list(X_train.columns)\n",
    "\n",
    "print(y_train.sum() / len(y_train))\n",
    "print(y_val.sum() / len(y_val))\n",
    "print(y_test.sum() / len(y_test))"
   ]
  },
  {
   "cell_type": "markdown",
   "metadata": {},
   "source": [
    "Removing constant columns"
   ]
  },
  {
   "cell_type": "code",
   "execution_count": null,
   "metadata": {},
   "outputs": [],
   "source": [
    "is_constant = (X_train == X_train.iloc[0]).all()\n",
    "columns = X_train.columns[~is_constant]\n",
    "X_train = X_train[columns]\n",
    "X_val = X_val[columns]\n",
    "X_test = X_test[columns]\n",
    "mean_vals = mean_vals[columns]\n",
    "feature_names = list(columns)\n",
    "X_train"
   ]
  },
  {
   "cell_type": "markdown",
   "metadata": {},
   "source": [
    "t-SNE plot"
   ]
  },
  {
   "cell_type": "code",
   "execution_count": null,
   "metadata": {},
   "outputs": [],
   "source": [
    "import numpy as np\n",
    "import matplotlib.pyplot as plt\n",
    "from sklearn.manifold import TSNE\n",
    "\n",
    "\n",
    "# reducing dimensuions to 2\n",
    "tsne = TSNE(n_components=2, random_state=42)\n",
    "X_tsne = tsne.fit_transform(X_train)\n",
    "\n",
    "# plot\n",
    "plt.figure(figsize=(8, 6))\n",
    "\n",
    "# plot class 0\n",
    "plt.scatter(X_tsne[y_train == 0, 0], X_tsne[y_train == 0, 1], color='r', label=\"class 0\", alpha=0.5)\n",
    "\n",
    "# plot class 1\n",
    "plt.scatter(X_tsne[y_train == 1, 0], X_tsne[y_train == 1, 1], color='b', label=\"class 1\", alpha=0.5)\n",
    "\n",
    "plt.title(\"t-SNE Visualization of Classes\")\n",
    "plt.xlabel(\"t-SNE Component 1\")\n",
    "plt.ylabel(\"t-SNE Component 2\")\n",
    "plt.legend()\n",
    "plt.show()\n"
   ]
  },
  {
   "cell_type": "markdown",
   "metadata": {},
   "source": [
    "Feature selection"
   ]
  },
  {
   "cell_type": "code",
   "execution_count": null,
   "metadata": {},
   "outputs": [],
   "source": [
    "from sklearn.feature_selection import SelectKBest, f_classif\n",
    "\n",
    "\n",
    "n_selected_features = 50\n",
    "selector = SelectKBest(score_func=f_classif, k=n_selected_features)\n",
    "selector.fit(X_train, y_train)\n",
    "support = selector.get_support()\n",
    "feature_names = X_train.columns[support]\n",
    "\n",
    "X_train = X_train[feature_names]\n",
    "X_val = X_val[feature_names]\n",
    "X_test = X_test[feature_names]\n",
    "print(feature_names)"
   ]
  },
  {
   "cell_type": "markdown",
   "metadata": {},
   "source": [
    "model building"
   ]
  },
  {
   "cell_type": "code",
   "execution_count": 49,
   "metadata": {},
   "outputs": [],
   "source": [
    "from sklearn.preprocessing import StandardScaler\n",
    "from sklearn.ensemble import RandomForestClassifier\n",
    "from sklearn.metrics import classification_report\n",
    "\n",
    "\n",
    "scaler = StandardScaler()\n",
    "scaler.fit(X_train)\n",
    "X_train = scaler.transform(X_train)\n",
    "X_val = scaler.transform(X_val)\n",
    "X_test = scaler.transform(X_test)\n",
    "model = RandomForestClassifier(random_state=42)\n",
    "model.fit(X_train, y_train)\n",
    "y_pred = model.predict(X_val)"
   ]
  },
  {
   "cell_type": "markdown",
   "metadata": {},
   "source": [
    "report"
   ]
  },
  {
   "cell_type": "code",
   "execution_count": null,
   "metadata": {},
   "outputs": [],
   "source": [
    "report = classification_report(y_val, y_pred)\n",
    "print(report)"
   ]
  },
  {
   "cell_type": "markdown",
   "metadata": {},
   "source": [
    "Saving model"
   ]
  },
  {
   "cell_type": "code",
   "execution_count": 51,
   "metadata": {},
   "outputs": [],
   "source": [
    "import pickle\n",
    "\n",
    "model_dict = {\"feature_names\": feature_names,\n",
    "              \"scaler\": scaler,\n",
    "              \"model\": model}\n",
    "\n",
    "with open(\"model_dict.pkl\", \"wb\") as f:\n",
    "    pickle.dump(model_dict, f)"
   ]
  },
  {
   "cell_type": "code",
   "execution_count": null,
   "metadata": {},
   "outputs": [],
   "source": [
    "with open(\"model_dict.pkl\", \"rb\") as f:\n",
    "    model_dict = pickle.load(f)\n",
    "\n",
    "model = model_dict[\"model\"]\n",
    "model"
   ]
  }
 ],
 "metadata": {
  "kernelspec": {
   "display_name": "venv",
   "language": "python",
   "name": "python3"
  },
  "language_info": {
   "codemirror_mode": {
    "name": "ipython",
    "version": 3
   },
   "file_extension": ".py",
   "mimetype": "text/x-python",
   "name": "python",
   "nbconvert_exporter": "python",
   "pygments_lexer": "ipython3",
   "version": "3.10.11"
  }
 },
 "nbformat": 4,
 "nbformat_minor": 2
}
